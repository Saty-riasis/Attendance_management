{
  "cells": [
    {
      "cell_type": "markdown",
      "metadata": {
        "id": "view-in-github",
        "colab_type": "text"
      },
      "source": [
        "<a href=\"https://colab.research.google.com/github/Saty-riasis/Attendance_management/blob/main/examples/vision/ipynb/handwriting_recognition.ipynb\" target=\"_parent\"><img src=\"https://colab.research.google.com/assets/colab-badge.svg\" alt=\"Open In Colab\"/></a>"
      ]
    },
    {
      "cell_type": "markdown",
      "metadata": {
        "id": "pKJC91RMwLhc"
      },
      "source": [
        "# Handwriting recognition\n",
        "\n",
        "**Authors:** [A_K_Nain](https://twitter.com/A_K_Nain), [Sayak Paul](https://twitter.com/RisingSayak)<br>\n",
        "**Date created:** 2021/08/16<br>\n",
        "**Last modified:** 2021/08/16<br>\n",
        "**Description:** Training a handwriting recognition model with variable-length sequences."
      ]
    },
    {
      "cell_type": "markdown",
      "metadata": {
        "id": "mWzzabojwLhf"
      },
      "source": [
        "## Introduction\n",
        "\n",
        "This example shows how the [Captcha OCR](https://keras.io/examples/vision/captcha_ocr/)\n",
        "example can be extended to the\n",
        "[IAM Dataset](https://fki.tic.heia-fr.ch/databases/iam-handwriting-database),\n",
        "which has variable length ground-truth targets. Each sample in the dataset is an image of some\n",
        "handwritten text, and its corresponding target is the string present in the image.\n",
        "The IAM Dataset is widely used across many OCR benchmarks, so we hope this example can serve as a\n",
        "good starting point for building OCR systems."
      ]
    },
    {
      "cell_type": "markdown",
      "metadata": {
        "id": "Glp0tB9twLhg"
      },
      "source": [
        "## Data collection"
      ]
    },
    {
      "cell_type": "code",
      "execution_count": 1,
      "metadata": {
        "id": "5DKNrz-mwLhg"
      },
      "outputs": [],
      "source": [
        "!wget -q https://git.io/J0fjL -O IAM_Words.zip\n",
        "!unzip -qq IAM_Words.zip\n",
        "!\n",
        "!mkdir data\n",
        "!mkdir data/words\n",
        "!tar -xf IAM_Words/words.tgz -C data/words\n",
        "!mv IAM_Words/words.txt data"
      ]
    },
    {
      "cell_type": "markdown",
      "metadata": {
        "id": "kl6FO77pwLhh"
      },
      "source": [
        "Preview how the dataset is organized. Lines prepended by \"#\" are just metadata information."
      ]
    },
    {
      "cell_type": "code",
      "execution_count": 2,
      "metadata": {
        "id": "t99XbO_8wLhi",
        "outputId": "74ac4797-5d6e-4393-e246-90bac9bbd5dc",
        "colab": {
          "base_uri": "https://localhost:8080/"
        }
      },
      "outputs": [
        {
          "output_type": "stream",
          "name": "stdout",
          "text": [
            "#--- words.txt ---------------------------------------------------------------#\n",
            "#\n",
            "# iam database word information\n",
            "#\n",
            "# format: a01-000u-00-00 ok 154 1 408 768 27 51 AT A\n",
            "#\n",
            "#     a01-000u-00-00  -> word id for line 00 in form a01-000u\n",
            "#     ok              -> result of word segmentation\n",
            "#                            ok: word was correctly\n",
            "#                            er: segmentation of word can be bad\n",
            "#\n",
            "#     154             -> graylevel to binarize the line containing this word\n",
            "#     1               -> number of components for this word\n",
            "#     408 768 27 51   -> bounding box around this word in x,y,w,h format\n",
            "#     AT              -> the grammatical tag for this word, see the\n",
            "#                        file tagset.txt for an explanation\n",
            "#     A               -> the transcription for this word\n",
            "#\n",
            "a01-000u-00-00 ok 154 408 768 27 51 AT A\n",
            "a01-000u-00-01 ok 154 507 766 213 48 NN MOVE\n"
          ]
        }
      ],
      "source": [
        "!head -20 data/words.txt"
      ]
    },
    {
      "cell_type": "markdown",
      "metadata": {
        "id": "c8TZeeWdwLhi"
      },
      "source": [
        "## Imports"
      ]
    },
    {
      "cell_type": "code",
      "execution_count": 3,
      "metadata": {
        "id": "8u-Sm_-xwLhi"
      },
      "outputs": [],
      "source": [
        "from tensorflow.keras.layers.experimental.preprocessing import StringLookup\n",
        "from tensorflow import keras\n",
        "\n",
        "import matplotlib.pyplot as plt\n",
        "import tensorflow as tf\n",
        "import numpy as np\n",
        "import os\n",
        "\n",
        "np.random.seed(42)\n",
        "tf.random.set_seed(42)"
      ]
    },
    {
      "cell_type": "markdown",
      "metadata": {
        "id": "Id2a_-vnwLhj"
      },
      "source": [
        "## Dataset splitting"
      ]
    },
    {
      "cell_type": "code",
      "execution_count": 4,
      "metadata": {
        "id": "bGUj5Fv5wLhj"
      },
      "outputs": [],
      "source": [
        "base_path = \"data\"\n",
        "words_list = []\n",
        "\n",
        "words = open(f\"{base_path}/words.txt\", \"r\").readlines()\n",
        "for line in words:\n",
        "    if line[0] == \"#\":\n",
        "        continue\n",
        "    if line.split(\" \")[1] != \"err\":  # We don't need to deal with errored entries.\n",
        "        words_list.append(line)\n",
        "\n",
        "len(words_list)\n",
        "\n",
        "np.random.shuffle(words_list)"
      ]
    },
    {
      "cell_type": "markdown",
      "metadata": {
        "id": "bJXXmnBowLhk"
      },
      "source": [
        "We will split the dataset into three subsets with a 90:5:5 ratio (train:validation:test)."
      ]
    },
    {
      "cell_type": "code",
      "execution_count": 5,
      "metadata": {
        "id": "_wETfFdSwLhk",
        "outputId": "ce4e3993-bc50-473f-8bb2-40b94ce132f5",
        "colab": {
          "base_uri": "https://localhost:8080/"
        }
      },
      "outputs": [
        {
          "output_type": "stream",
          "name": "stdout",
          "text": [
            "Total training samples: 86810\n",
            "Total validation samples: 4823\n",
            "Total test samples: 4823\n"
          ]
        }
      ],
      "source": [
        "split_idx = int(0.9 * len(words_list))\n",
        "train_samples = words_list[:split_idx]\n",
        "test_samples = words_list[split_idx:]\n",
        "\n",
        "val_split_idx = int(0.5 * len(test_samples))\n",
        "validation_samples = test_samples[:val_split_idx]\n",
        "test_samples = test_samples[val_split_idx:]\n",
        "\n",
        "assert len(words_list) == len(train_samples) + len(validation_samples) + len(\n",
        "    test_samples\n",
        ")\n",
        "\n",
        "print(f\"Total training samples: {len(train_samples)}\")\n",
        "print(f\"Total validation samples: {len(validation_samples)}\")\n",
        "print(f\"Total test samples: {len(test_samples)}\")"
      ]
    },
    {
      "cell_type": "markdown",
      "metadata": {
        "id": "cirwCqBLwLhk"
      },
      "source": [
        "## Data input pipeline\n",
        "\n",
        "We start building our data input pipeline by first preparing the image paths."
      ]
    },
    {
      "cell_type": "code",
      "execution_count": 6,
      "metadata": {
        "id": "m4APAiZLwLhk"
      },
      "outputs": [],
      "source": [
        "base_image_path = os.path.join(base_path, \"words\")\n",
        "\n",
        "\n",
        "def get_image_paths_and_labels(samples):\n",
        "    paths = []\n",
        "    corrected_samples = []\n",
        "    for (i, file_line) in enumerate(samples):\n",
        "        line_split = file_line.strip()\n",
        "        line_split = line_split.split(\" \")\n",
        "\n",
        "        # Each line split will have this format for the corresponding image:\n",
        "        # part1/part1-part2/part1-part2-part3.png\n",
        "        image_name = line_split[0]\n",
        "        partI = image_name.split(\"-\")[0]\n",
        "        partII = image_name.split(\"-\")[1]\n",
        "        img_path = os.path.join(\n",
        "            base_image_path, partI, partI + \"-\" + partII, image_name + \".png\"\n",
        "        )\n",
        "        if os.path.getsize(img_path):\n",
        "            paths.append(img_path)\n",
        "            corrected_samples.append(file_line.split(\"\\n\")[0])\n",
        "\n",
        "    return paths, corrected_samples\n",
        "\n",
        "\n",
        "train_img_paths, train_labels = get_image_paths_and_labels(train_samples)\n",
        "validation_img_paths, validation_labels = get_image_paths_and_labels(validation_samples)\n",
        "test_img_paths, test_labels = get_image_paths_and_labels(test_samples)"
      ]
    },
    {
      "cell_type": "markdown",
      "metadata": {
        "id": "69SG9-PuwLhl"
      },
      "source": [
        "Then we prepare the ground-truth labels."
      ]
    },
    {
      "cell_type": "code",
      "execution_count": 7,
      "metadata": {
        "id": "lj3jbTTAwLhl",
        "outputId": "bde55c19-92c1-4ad0-a307-b988af786daa",
        "colab": {
          "base_uri": "https://localhost:8080/"
        }
      },
      "outputs": [
        {
          "output_type": "stream",
          "name": "stdout",
          "text": [
            "Maximum length:  21\n",
            "Vocab size:  78\n"
          ]
        },
        {
          "output_type": "execute_result",
          "data": {
            "text/plain": [
              "['sure',\n",
              " 'he',\n",
              " 'during',\n",
              " 'of',\n",
              " 'booty',\n",
              " 'gastronomy',\n",
              " 'boy',\n",
              " 'The',\n",
              " 'and',\n",
              " 'in']"
            ]
          },
          "metadata": {},
          "execution_count": 7
        }
      ],
      "source": [
        "# Find maximum length and the size of the vocabulary in the training data.\n",
        "train_labels_cleaned = []\n",
        "characters = set()\n",
        "max_len = 0\n",
        "\n",
        "for label in train_labels:\n",
        "    label = label.split(\" \")[-1].strip()\n",
        "    for char in label:\n",
        "        characters.add(char)\n",
        "\n",
        "    max_len = max(max_len, len(label))\n",
        "    train_labels_cleaned.append(label)\n",
        "\n",
        "characters = sorted(list(characters))\n",
        "\n",
        "print(\"Maximum length: \", max_len)\n",
        "print(\"Vocab size: \", len(characters))\n",
        "\n",
        "# Check some label samples.\n",
        "train_labels_cleaned[:10]"
      ]
    },
    {
      "cell_type": "markdown",
      "metadata": {
        "id": "RJD5a5nGwLhl"
      },
      "source": [
        "Now we clean the validation and the test labels as well."
      ]
    },
    {
      "cell_type": "code",
      "execution_count": 8,
      "metadata": {
        "id": "6V-MOMHQwLhm"
      },
      "outputs": [],
      "source": [
        "\n",
        "def clean_labels(labels):\n",
        "    cleaned_labels = []\n",
        "    for label in labels:\n",
        "        label = label.split(\" \")[-1].strip()\n",
        "        cleaned_labels.append(label)\n",
        "    return cleaned_labels\n",
        "\n",
        "\n",
        "validation_labels_cleaned = clean_labels(validation_labels)\n",
        "test_labels_cleaned = clean_labels(test_labels)"
      ]
    },
    {
      "cell_type": "markdown",
      "metadata": {
        "id": "sVVivF7uwLhm"
      },
      "source": [
        "### Building the character vocabulary\n",
        "\n",
        "Keras provides different preprocessing layers to deal with different modalities of data.\n",
        "[This guide](https://keras.io/guides/preprocessing_layers/) provides a comprehensive introduction.\n",
        "Our example involves preprocessing labels at the character\n",
        "level. This means that if there are two labels, e.g. \"cat\" and \"dog\", then our character\n",
        "vocabulary should be {a, c, d, g, o, t} (without any special tokens). We use the\n",
        "[`StringLookup`](https://keras.io/api/layers/preprocessing_layers/categorical/string_lookup/)\n",
        "layer for this purpose."
      ]
    },
    {
      "cell_type": "code",
      "execution_count": 9,
      "metadata": {
        "id": "X3-5CqHHwLhm"
      },
      "outputs": [],
      "source": [
        "\n",
        "AUTOTUNE = tf.data.AUTOTUNE\n",
        "\n",
        "# Mapping characters to integers.\n",
        "char_to_num = StringLookup(vocabulary=list(characters), mask_token=None)\n",
        "\n",
        "# Mapping integers back to original characters.\n",
        "num_to_char = StringLookup(\n",
        "    vocabulary=char_to_num.get_vocabulary(), mask_token=None, invert=True\n",
        ")"
      ]
    },
    {
      "cell_type": "markdown",
      "metadata": {
        "id": "zHxSFy93wLhm"
      },
      "source": [
        "### Resizing images without distortion\n",
        "\n",
        "Instead of square images, many OCR models work with rectangular images. This will become\n",
        "clearer in a moment when we will visualize a few samples from the dataset. While\n",
        "aspect-unaware resizing square images does not introduce a significant amount of\n",
        "distortion this is not the case for rectangular images. But resizing images to a uniform\n",
        "size is a requirement for mini-batching. So we need to perform our resizing such that\n",
        "the following criteria are met:\n",
        "\n",
        "* Aspect ratio is preserved.\n",
        "* Content of the images is not affected."
      ]
    },
    {
      "cell_type": "code",
      "execution_count": 10,
      "metadata": {
        "id": "6ChrqmWPwLhm"
      },
      "outputs": [],
      "source": [
        "\n",
        "def distortion_free_resize(image, img_size):\n",
        "    w, h = img_size\n",
        "    image = tf.image.resize(image, size=(h, w), preserve_aspect_ratio=True)\n",
        "\n",
        "    # Check tha amount of padding needed to be done.\n",
        "    pad_height = h - tf.shape(image)[0]\n",
        "    pad_width = w - tf.shape(image)[1]\n",
        "\n",
        "    # Only necessary if you want to do same amount of padding on both sides.\n",
        "    if pad_height % 2 != 0:\n",
        "        height = pad_height // 2\n",
        "        pad_height_top = height + 1\n",
        "        pad_height_bottom = height\n",
        "    else:\n",
        "        pad_height_top = pad_height_bottom = pad_height // 2\n",
        "\n",
        "    if pad_width % 2 != 0:\n",
        "        width = pad_width // 2\n",
        "        pad_width_left = width + 1\n",
        "        pad_width_right = width\n",
        "    else:\n",
        "        pad_width_left = pad_width_right = pad_width // 2\n",
        "\n",
        "    image = tf.pad(\n",
        "        image,\n",
        "        paddings=[\n",
        "            [pad_height_top, pad_height_bottom],\n",
        "            [pad_width_left, pad_width_right],\n",
        "            [0, 0],\n",
        "        ],\n",
        "    )\n",
        "\n",
        "    image = tf.transpose(image, perm=[1, 0, 2])\n",
        "    image = tf.image.flip_left_right(image)\n",
        "    return image\n"
      ]
    },
    {
      "cell_type": "markdown",
      "metadata": {
        "id": "jV_WxOs5wLhn"
      },
      "source": [
        "If we just go with the plain resizing then the images would look like so:\n",
        "\n",
        "![](https://i.imgur.com/eqq3s4N.png)\n",
        "\n",
        "Notice how this resizing would have introduced unnecessary stretching."
      ]
    },
    {
      "cell_type": "markdown",
      "metadata": {
        "id": "25mSdstOwLhn"
      },
      "source": [
        "### Putting the utilities together"
      ]
    },
    {
      "cell_type": "code",
      "execution_count": 11,
      "metadata": {
        "id": "IoPsogsqwLhn"
      },
      "outputs": [],
      "source": [
        "batch_size = 64\n",
        "padding_token = 99\n",
        "image_width = 128\n",
        "image_height = 32\n",
        "\n",
        "\n",
        "def preprocess_image(image_path, img_size=(image_width, image_height)):\n",
        "    image = tf.io.read_file(image_path)\n",
        "    image = tf.image.decode_png(image, 1)\n",
        "    image = distortion_free_resize(image, img_size)\n",
        "    image = tf.cast(image, tf.float32) / 255.0\n",
        "    return image\n",
        "\n",
        "\n",
        "def vectorize_label(label):\n",
        "    label = char_to_num(tf.strings.unicode_split(label, input_encoding=\"UTF-8\"))\n",
        "    length = tf.shape(label)[0]\n",
        "    pad_amount = max_len - length\n",
        "    label = tf.pad(label, paddings=[[0, pad_amount]], constant_values=padding_token)\n",
        "    return label\n",
        "\n",
        "\n",
        "def process_images_labels(image_path, label):\n",
        "    image = preprocess_image(image_path)\n",
        "    label = vectorize_label(label)\n",
        "    return {\"image\": image, \"label\": label}\n",
        "\n",
        "\n",
        "def prepare_dataset(image_paths, labels):\n",
        "    dataset = tf.data.Dataset.from_tensor_slices((image_paths, labels)).map(\n",
        "        process_images_labels, num_parallel_calls=AUTOTUNE\n",
        "    )\n",
        "    return dataset.batch(batch_size).cache().prefetch(AUTOTUNE)\n"
      ]
    },
    {
      "cell_type": "markdown",
      "metadata": {
        "id": "ACA7YAnKwLhn"
      },
      "source": [
        "## Prepare `tf.data.Dataset` objects"
      ]
    },
    {
      "cell_type": "code",
      "execution_count": 12,
      "metadata": {
        "id": "EiqldY4AwLhn"
      },
      "outputs": [],
      "source": [
        "train_ds = prepare_dataset(train_img_paths, train_labels_cleaned)\n",
        "validation_ds = prepare_dataset(validation_img_paths, validation_labels_cleaned)\n",
        "test_ds = prepare_dataset(test_img_paths, test_labels_cleaned)"
      ]
    },
    {
      "cell_type": "markdown",
      "metadata": {
        "id": "KMbloih5wLhn"
      },
      "source": [
        "## Visualize a few samples"
      ]
    },
    {
      "cell_type": "code",
      "execution_count": 13,
      "metadata": {
        "id": "_gnXjNV_wLhn",
        "outputId": "cba3250e-88e6-468e-9d39-d4f00121bc63",
        "colab": {
          "base_uri": "https://localhost:8080/",
          "height": 433
        }
      },
      "outputs": [
        {
          "output_type": "display_data",
          "data": {
            "text/plain": [
              "<Figure size 1080x576 with 16 Axes>"
            ],
            "image/png": "[encoded data removed]"
          },
          "metadata": {
            "needs_background": "light"
          }
        }
      ],
      "source": [
        "for data in train_ds.take(1):\n",
        "    images, labels = data[\"image\"], data[\"label\"]\n",
        "\n",
        "    _, ax = plt.subplots(4, 4, figsize=(15, 8))\n",
        "\n",
        "    for i in range(16):\n",
        "        img = images[i]\n",
        "        img = tf.image.flip_left_right(img)\n",
        "        img = tf.transpose(img, perm=[1, 0, 2])\n",
        "        img = (img * 255.0).numpy().clip(0, 255).astype(np.uint8)\n",
        "        img = img[:, :, 0]\n",
        "\n",
        "        # Gather indices where label!= padding_token.\n",
        "        label = labels[i]\n",
        "        indices = tf.gather(label, tf.where(tf.math.not_equal(label, padding_token)))\n",
        "        # Convert to string.\n",
        "        label = tf.strings.reduce_join(num_to_char(indices))\n",
        "        label = label.numpy().decode(\"utf-8\")\n",
        "\n",
        "        ax[i // 4, i % 4].imshow(img, cmap=\"gray\")\n",
        "        ax[i // 4, i % 4].set_title(label)\n",
        "        ax[i // 4, i % 4].axis(\"off\")\n",
        "\n",
        "\n",
        "plt.show()"
      ]
    },
    {
      "cell_type": "markdown",
      "metadata": {
        "id": "2kRHd7fxwLho"
      },
      "source": [
        "You will notice that the content of original image is kept as faithful as possible and has\n",
        "been padded accordingly."
      ]
    },
    {
      "cell_type": "markdown",
      "source": [],
      "metadata": {
        "id": "MLH_lzjUJ60C"
      }
    },
    {
      "cell_type": "markdown",
      "metadata": {
        "id": "SwnVszG9wLho"
      },
      "source": [
        "## Model\n",
        "\n",
        "Our model will use the CTC loss as an endpoint layer. For a detailed understanding of the\n",
        "CTC loss, refer to [this post](https://distill.pub/2017/ctc/)."
      ]
    },
    {
      "cell_type": "code",
      "execution_count": 14,
      "metadata": {
        "id": "LyIHc4RawLho",
        "outputId": "3a536180-7cf8-41ad-d06b-aca8c6102034",
        "colab": {
          "base_uri": "https://localhost:8080/"
        }
      },
      "outputs": [
        {
          "output_type": "stream",
          "name": "stdout",
          "text": [
            "Model: \"handwriting_recognizer\"\n",
            "__________________________________________________________________________________________________\n",
            " Layer (type)                   Output Shape         Param #     Connected to                     \n",
            "==================================================================================================\n",
            " image (InputLayer)             [(None, 128, 32, 1)  0           []                               \n",
            "                                ]                                                                 \n",
            "                                                                                                  \n",
            " Conv1 (Conv2D)                 (None, 128, 32, 32)  320         ['image[0][0]']                  \n",
            "                                                                                                  \n",
            " pool1 (MaxPooling2D)           (None, 64, 16, 32)   0           ['Conv1[0][0]']                  \n",
            "                                                                                                  \n",
            " Conv2 (Conv2D)                 (None, 64, 16, 64)   18496       ['pool1[0][0]']                  \n",
            "                                                                                                  \n",
            " pool2 (MaxPooling2D)           (None, 32, 8, 64)    0           ['Conv2[0][0]']                  \n",
            "                                                                                                  \n",
            " reshape (Reshape)              (None, 32, 512)      0           ['pool2[0][0]']                  \n",
            "                                                                                                  \n",
            " dense1 (Dense)                 (None, 32, 64)       32832       ['reshape[0][0]']                \n",
            "                                                                                                  \n",
            " dropout (Dropout)              (None, 32, 64)       0           ['dense1[0][0]']                 \n",
            "                                                                                                  \n",
            " bidirectional (Bidirectional)  (None, 32, 256)      197632      ['dropout[0][0]']                \n",
            "                                                                                                  \n",
            " bidirectional_1 (Bidirectional  (None, 32, 128)     164352      ['bidirectional[0][0]']          \n",
            " )                                                                                                \n",
            "                                                                                                  \n",
            " label (InputLayer)             [(None, None)]       0           []                               \n",
            "                                                                                                  \n",
            " dense2 (Dense)                 (None, 32, 81)       10449       ['bidirectional_1[0][0]']        \n",
            "                                                                                                  \n",
            " ctc_loss (CTCLayer)            (None, 32, 81)       0           ['label[0][0]',                  \n",
            "                                                                  'dense2[0][0]']                 \n",
            "                                                                                                  \n",
            "==================================================================================================\n",
            "Total params: 424,081\n",
            "Trainable params: 424,081\n",
            "Non-trainable params: 0\n",
            "__________________________________________________________________________________________________\n"
          ]
        }
      ],
      "source": [
        "\n",
        "class CTCLayer(keras.layers.Layer):\n",
        "    def __init__(self, name=None):\n",
        "        super().__init__(name=name)\n",
        "        self.loss_fn = keras.backend.ctc_batch_cost\n",
        "\n",
        "    def call(self, y_true, y_pred):\n",
        "        batch_len = tf.cast(tf.shape(y_true)[0], dtype=\"int64\")\n",
        "        input_length = tf.cast(tf.shape(y_pred)[1], dtype=\"int64\")\n",
        "        label_length = tf.cast(tf.shape(y_true)[1], dtype=\"int64\")\n",
        "\n",
        "        input_length = input_length * tf.ones(shape=(batch_len, 1), dtype=\"int64\")\n",
        "        label_length = label_length * tf.ones(shape=(batch_len, 1), dtype=\"int64\")\n",
        "        loss = self.loss_fn(y_true, y_pred, input_length, label_length)\n",
        "        self.add_loss(loss)\n",
        "\n",
        "        # At test time, just return the computed predictions.\n",
        "        return y_pred\n",
        "\n",
        "\n",
        "def build_model():\n",
        "    # Inputs to the model\n",
        "    input_img = keras.Input(shape=(image_width, image_height, 1), name=\"image\")\n",
        "    labels = keras.layers.Input(name=\"label\", shape=(None,))\n",
        "\n",
        "    # First conv block.\n",
        "    x = keras.layers.Conv2D(\n",
        "        32,\n",
        "        (3, 3),\n",
        "        activation=\"relu\",\n",
        "        kernel_initializer=\"he_normal\",\n",
        "        padding=\"same\",\n",
        "        name=\"Conv1\",\n",
        "    )(input_img)\n",
        "    x = keras.layers.MaxPooling2D((2, 2), name=\"pool1\")(x)\n",
        "\n",
        "    # Second conv block.\n",
        "    x = keras.layers.Conv2D(\n",
        "        64,\n",
        "        (3, 3),\n",
        "        activation=\"relu\",\n",
        "        kernel_initializer=\"he_normal\",\n",
        "        padding=\"same\",\n",
        "        name=\"Conv2\",\n",
        "    )(x)\n",
        "    x = keras.layers.MaxPooling2D((2, 2), name=\"pool2\")(x)\n",
        "\n",
        "    # We have used two max pool with pool size and strides 2.\n",
        "    # Hence, downsampled feature maps are 4x smaller. The number of\n",
        "    # filters in the last layer is 64. Reshape accordingly before\n",
        "    # passing the output to the RNN part of the model.\n",
        "    new_shape = ((image_width // 4), (image_height // 4) * 64)\n",
        "    x = keras.layers.Reshape(target_shape=new_shape, name=\"reshape\")(x)\n",
        "    x = keras.layers.Dense(64, activation=\"relu\", name=\"dense1\")(x)\n",
        "    x = keras.layers.Dropout(0.2)(x)\n",
        "\n",
        "    # RNNs.\n",
        "    x = keras.layers.Bidirectional(\n",
        "        keras.layers.LSTM(128, return_sequences=True, dropout=0.25)\n",
        "    )(x)\n",
        "    x = keras.layers.Bidirectional(\n",
        "        keras.layers.LSTM(64, return_sequences=True, dropout=0.25)\n",
        "    )(x)\n",
        "\n",
        "    # +2 is to account for the two special tokens introduced by the CTC loss.\n",
        "    # The recommendation comes here: https://git.io/J0eXP.\n",
        "    x = keras.layers.Dense(\n",
        "        len(char_to_num.get_vocabulary()) + 2, activation=\"softmax\", name=\"dense2\"\n",
        "    )(x)\n",
        "\n",
        "    # Add CTC layer for calculating CTC loss at each step.\n",
        "    output = CTCLayer(name=\"ctc_loss\")(labels, x)\n",
        "\n",
        "    # Define the model.\n",
        "    model = keras.models.Model(\n",
        "        inputs=[input_img, labels], outputs=output, name=\"handwriting_recognizer\"\n",
        "    )\n",
        "    # Optimizer.\n",
        "    opt = keras.optimizers.Adam()\n",
        "    # Compile the model and return.\n",
        "    model.compile(optimizer=opt)\n",
        "    return model\n",
        "\n",
        "\n",
        "# Get the model.\n",
        "model = build_model()\n",
        "model.summary()"
      ]
    },
    {
      "cell_type": "markdown",
      "metadata": {
        "id": "xJ3u44F5wLho"
      },
      "source": [
        "## Evaluation metric\n",
        "\n",
        "[Edit Distance](https://en.wikipedia.org/wiki/Edit_distance)\n",
        "is the most widely used metric for evaluating OCR models. In this section, we will\n",
        "implement it and use it as a callback to monitor our model."
      ]
    },
    {
      "cell_type": "markdown",
      "metadata": {
        "id": "RZq6g2sfwLho"
      },
      "source": [
        "We first segregate the validation images and their labels for convenience."
      ]
    },
    {
      "cell_type": "code",
      "execution_count": 15,
      "metadata": {
        "id": "c8QW--FGwLho"
      },
      "outputs": [],
      "source": [
        "validation_images = []\n",
        "validation_labels = []\n",
        "\n",
        "for batch in validation_ds:\n",
        "    validation_images.append(batch[\"image\"])\n",
        "    validation_labels.append(batch[\"label\"])"
      ]
    },
    {
      "cell_type": "markdown",
      "metadata": {
        "id": "LhMsqShqwLho"
      },
      "source": [
        "Now, we create a callback to monitor the edit distances."
      ]
    },
    {
      "cell_type": "code",
      "execution_count": 16,
      "metadata": {
        "id": "ZeDSxhBzwLhp"
      },
      "outputs": [],
      "source": [
        "\n",
        "def calculate_edit_distance(labels, predictions):\n",
        "    # Get a single batch and convert its labels to sparse tensors.\n",
        "    saprse_labels = tf.cast(tf.sparse.from_dense(labels), dtype=tf.int64)\n",
        "\n",
        "    # Make predictions and convert them to sparse tensors.\n",
        "    input_len = np.ones(predictions.shape[0]) * predictions.shape[1]\n",
        "    predictions_decoded = keras.backend.ctc_decode(\n",
        "        predictions, input_length=input_len, greedy=True\n",
        "    )[0][0][:, :max_len]\n",
        "    sparse_predictions = tf.cast(\n",
        "        tf.sparse.from_dense(predictions_decoded), dtype=tf.int64\n",
        "    )\n",
        "\n",
        "    # Compute individual edit distances and average them out.\n",
        "    edit_distances = tf.edit_distance(\n",
        "        sparse_predictions, saprse_labels, normalize=False\n",
        "    )\n",
        "    return tf.reduce_mean(edit_distances)\n",
        "\n",
        "\n",
        "class EditDistanceCallback(keras.callbacks.Callback):\n",
        "    def __init__(self, pred_model):\n",
        "        super().__init__()\n",
        "        self.prediction_model = pred_model\n",
        "\n",
        "    def on_epoch_end(self, epoch, logs=None):\n",
        "        edit_distances = []\n",
        "\n",
        "        for i in range(len(validation_images)):\n",
        "            labels = validation_labels[i]\n",
        "            predictions = self.prediction_model.predict(validation_images[i])\n",
        "            edit_distances.append(calculate_edit_distance(labels, predictions).numpy())\n",
        "\n",
        "        print(\n",
        "            f\"Mean edit distance for epoch {epoch + 1}: {np.mean(edit_distances):.4f}\"\n",
        "        )\n"
      ]
    },
    {
      "cell_type": "markdown",
      "metadata": {
        "id": "ePE0o3P_wLhp"
      },
      "source": [
        "## Training\n",
        "\n",
        "Now we are ready to kick off model training."
      ]
    },
    {
      "cell_type": "code",
      "execution_count": null,
      "metadata": {
        "id": "kxHwfb8SwLhp",
        "outputId": "16e432e8-4423-44da-a556-d359536eab0a",
        "colab": {
          "base_uri": "https://localhost:8080/"
        }
      },
      "outputs": [
        {
          "output_type": "stream",
          "name": "stdout",
          "text": [
            "Epoch 1/50\n",
            "1357/1357 [==============================] - ETA: 0s - loss: 13.7034Mean edit distance for epoch 1: 20.7505\n",
            "1357/1357 [==============================] - 152s 98ms/step - loss: 13.7034 - val_loss: 11.9210\n",
            "Epoch 2/50\n",
            "1357/1357 [==============================] - ETA: 0s - loss: 10.5994Mean edit distance for epoch 2: 20.2896\n",
            "1357/1357 [==============================] - 74s 55ms/step - loss: 10.5994 - val_loss: 9.3714\n",
            "Epoch 3/50\n",
            "1357/1357 [==============================] - ETA: 0s - loss: 8.7820Mean edit distance for epoch 3: 19.6688\n",
            "1357/1357 [==============================] - 75s 55ms/step - loss: 8.7820 - val_loss: 7.4274\n",
            "Epoch 4/50\n",
            "1356/1357 [============================>.] - ETA: 0s - loss: 7.0159Mean edit distance for epoch 4: 18.7673\n",
            "1357/1357 [==============================] - 76s 56ms/step - loss: 7.0162 - val_loss: 5.5393\n",
            "Epoch 5/50\n",
            "1356/1357 [============================>.] - ETA: 0s - loss: 5.7029Mean edit distance for epoch 5: 18.4093\n",
            "1357/1357 [==============================] - 74s 55ms/step - loss: 5.7031 - val_loss: 4.5839\n",
            "Epoch 6/50\n",
            "1356/1357 [============================>.] - ETA: 0s - loss: 4.8788Mean edit distance for epoch 6: 18.0996\n",
            "1357/1357 [==============================] - 74s 55ms/step - loss: 4.8789 - val_loss: 3.9107\n",
            "Epoch 7/50\n",
            "1356/1357 [============================>.] - ETA: 0s - loss: 4.3240Mean edit distance for epoch 7: 18.0146\n",
            "1357/1357 [==============================] - 73s 54ms/step - loss: 4.3243 - val_loss: 3.4714\n",
            "Epoch 8/50\n",
            "1357/1357 [==============================] - ETA: 0s - loss: 3.9362Mean edit distance for epoch 8: 17.9020\n",
            "1357/1357 [==============================] - 73s 54ms/step - loss: 3.9362 - val_loss: 3.1760\n",
            "Epoch 9/50\n",
            "1356/1357 [============================>.] - ETA: 0s - loss: 3.6609Mean edit distance for epoch 9: 17.7922\n",
            "1357/1357 [==============================] - 74s 55ms/step - loss: 3.6611 - val_loss: 2.9143\n",
            "Epoch 10/50\n",
            "1356/1357 [============================>.] - ETA: 0s - loss: 3.4128Mean edit distance for epoch 10: 17.7240\n",
            "1357/1357 [==============================] - 77s 56ms/step - loss: 3.4129 - val_loss: 2.7680\n",
            "Epoch 11/50\n",
            "1356/1357 [============================>.] - ETA: 0s - loss: 3.2298Mean edit distance for epoch 11: 17.7197\n",
            "1357/1357 [==============================] - 76s 56ms/step - loss: 3.2297 - val_loss: 2.6509\n",
            "Epoch 12/50\n",
            "1356/1357 [============================>.] - ETA: 0s - loss: 3.0793Mean edit distance for epoch 12: 17.6694\n",
            "1357/1357 [==============================] - 76s 56ms/step - loss: 3.0794 - val_loss: 2.5706\n",
            "Epoch 13/50\n",
            "1356/1357 [============================>.] - ETA: 0s - loss: 2.9445Mean edit distance for epoch 13: 17.6457\n",
            "1357/1357 [==============================] - 75s 55ms/step - loss: 2.9445 - val_loss: 2.5213\n",
            "Epoch 14/50\n",
            "1356/1357 [============================>.] - ETA: 0s - loss: 2.8275Mean edit distance for epoch 14: 17.5959\n",
            "1357/1357 [==============================] - 74s 55ms/step - loss: 2.8275 - val_loss: 2.3814\n",
            "Epoch 15/50\n",
            " 365/1357 [=======>......................] - ETA: 48s - loss: 2.7364"
          ]
        }
      ],
      "source": [
        "epochs = 50  # To get good results this should be at least 50.\n",
        "\n",
        "model = build_model()\n",
        "prediction_model = keras.models.Model(\n",
        "    model.get_layer(name=\"image\").input, model.get_layer(name=\"dense2\").output\n",
        ")\n",
        "edit_distance_callback = EditDistanceCallback(prediction_model)\n",
        "\n",
        "# Train the model.\n",
        "history = model.fit(\n",
        "    train_ds,\n",
        "    validation_data=validation_ds,\n",
        "    epochs=epochs,\n",
        "    callbacks=[edit_distance_callback],\n",
        ")\n"
      ]
    },
    {
      "cell_type": "markdown",
      "metadata": {
        "id": "_b-ou9kzwLhp"
      },
      "source": [
        "## Inference"
      ]
    },
    {
      "cell_type": "code",
      "execution_count": null,
      "metadata": {
        "id": "GL92TkHuwLhp"
      },
      "outputs": [],
      "source": [
        "\n",
        "# A utility function to decode the output of the network.\n",
        "def decode_batch_predictions(pred):\n",
        "    input_len = np.ones(pred.shape[0]) * pred.shape[1]\n",
        "    # Use greedy search. For complex tasks, you can use beam search.\n",
        "    results = keras.backend.ctc_decode(pred, input_length=input_len, greedy=True)[0][0][\n",
        "        :, :max_len\n",
        "    ]\n",
        "    # Iterate over the results and get back the text.\n",
        "    output_text = []\n",
        "    for res in results:\n",
        "        res = tf.gather(res, tf.where(tf.math.not_equal(res, -1)))\n",
        "        res = tf.strings.reduce_join(num_to_char(res)).numpy().decode(\"utf-8\")\n",
        "        output_text.append(res)\n",
        "    return output_text\n",
        "\n",
        "\n",
        "#  Let's check results on some test samples.\n",
        "for batch in test_ds.take(1):\n",
        "    batch_images = batch[\"image\"]\n",
        "    _, ax = plt.subplots(4, 4, figsize=(15, 8))\n",
        "\n",
        "    preds = prediction_model.predict(batch_images)\n",
        "    pred_texts = decode_batch_predictions(preds)\n",
        "\n",
        "    for i in range(16):\n",
        "        img = batch_images[i]\n",
        "        img = tf.image.flip_left_right(img)\n",
        "        img = tf.transpose(img, perm=[1, 0, 2])\n",
        "        img = (img * 255.0).numpy().clip(0, 255).astype(np.uint8)\n",
        "        img = img[:, :, 0]\n",
        "\n",
        "        title = f\"Prediction: {pred_texts[i]}\"\n",
        "        ax[i // 4, i % 4].imshow(img, cmap=\"gray\")\n",
        "        ax[i // 4, i % 4].set_title(title)\n",
        "        ax[i // 4, i % 4].axis(\"off\")\n",
        "\n",
        "plt.show()"
      ]
    },
    {
      "cell_type": "code",
      "source": [
        "\n",
        "model.save('saved_model/my_model')"
      ],
      "metadata": {
        "id": "TxNUgN7yrIZR"
      },
      "execution_count": null,
      "outputs": []
    },
    {
      "cell_type": "markdown",
      "metadata": {
        "id": "Pk5kVLq5wLhp"
      },
      "source": [
        "To get better results the model should be trained for at least 50 epochs."
      ]
    },
    {
      "cell_type": "markdown",
      "metadata": {
        "id": "sJuZI3blwLhq"
      },
      "source": [
        "## Final remarks\n",
        "\n",
        "* The `prediction_model` is fully compatible with TensorFlow Lite. If you are interested,\n",
        "you can use it inside a mobile application. You may find\n",
        "[this notebook](https://github.com/tulasiram58827/ocr_tflite/blob/main/colabs/captcha_ocr_tflite.ipynb)\n",
        "to be useful in this regard.\n",
        "* Not all the training examples are perfectly aligned as observed in this example. This\n",
        "can hurt model performance for complex sequences. To this end, we can leverage\n",
        "Spatial Transformer Networks ([Jaderberg et al.](https://arxiv.org/abs/1506.02025))\n",
        "that can help the model learn affine transformations that maximize its performance."
      ]
    }
  ],
  "metadata": {
    "colab": {
      "collapsed_sections": [],
      "name": "handwriting_recognition",
      "provenance": [],
      "include_colab_link": true
    },
    "kernelspec": {
      "display_name": "Python 3",
      "language": "python",
      "name": "python3"
    },
    "language_info": {
      "codemirror_mode": {
        "name": "ipython",
        "version": 3
      },
      "file_extension": ".py",
      "mimetype": "text/x-python",
      "name": "python",
      "nbconvert_exporter": "python",
      "pygments_lexer": "ipython3",
      "version": "3.7.0"
    },
    "accelerator": "GPU"
  },
  "nbformat": 4,
  "nbformat_minor": 0
}